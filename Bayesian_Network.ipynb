{
  "nbformat": 4,
  "nbformat_minor": 0,
  "metadata": {
    "colab": {
      "name": "Bayesian Network.ipynb",
      "provenance": []
    },
    "kernelspec": {
      "name": "python3",
      "display_name": "Python 3"
    },
    "language_info": {
      "name": "python"
    }
  },
  "cells": [
    {
      "cell_type": "code",
      "metadata": {
        "id": "z6Pst9wLjvKX"
      },
      "source": [
        "import pandas as pd\n",
        "import numpy as np\n",
        "import matplotlib.pyplot as plt\n",
        "from scipy import stats\n",
        "import pymc3 as pm\n",
        "import arviz as az\n",
        "import theano.tensor as T\n",
        "import sklearn.linear_model"
      ],
      "execution_count": 18,
      "outputs": []
    },
    {
      "cell_type": "code",
      "metadata": {
        "id": "ndqzds2rj4Oy"
      },
      "source": [
        "data = pd.read_csv('advertising.csv')"
      ],
      "execution_count": 2,
      "outputs": []
    },
    {
      "cell_type": "code",
      "metadata": {
        "colab": {
          "base_uri": "https://localhost:8080/",
          "height": 206
        },
        "id": "mX9bFScakiQU",
        "outputId": "47db4a51-43dc-4668-a6c6-88f093bad702"
      },
      "source": [
        "data.head()"
      ],
      "execution_count": 3,
      "outputs": [
        {
          "output_type": "execute_result",
          "data": {
            "text/html": [
              "<div>\n",
              "<style scoped>\n",
              "    .dataframe tbody tr th:only-of-type {\n",
              "        vertical-align: middle;\n",
              "    }\n",
              "\n",
              "    .dataframe tbody tr th {\n",
              "        vertical-align: top;\n",
              "    }\n",
              "\n",
              "    .dataframe thead th {\n",
              "        text-align: right;\n",
              "    }\n",
              "</style>\n",
              "<table border=\"1\" class=\"dataframe\">\n",
              "  <thead>\n",
              "    <tr style=\"text-align: right;\">\n",
              "      <th></th>\n",
              "      <th>Daily Time Spent on Site</th>\n",
              "      <th>Age</th>\n",
              "      <th>Area Income</th>\n",
              "      <th>Daily Internet Usage</th>\n",
              "      <th>Ad Topic Line</th>\n",
              "      <th>City</th>\n",
              "      <th>Male</th>\n",
              "      <th>Country</th>\n",
              "      <th>Timestamp</th>\n",
              "      <th>Clicked on Ad</th>\n",
              "    </tr>\n",
              "  </thead>\n",
              "  <tbody>\n",
              "    <tr>\n",
              "      <th>0</th>\n",
              "      <td>68.95</td>\n",
              "      <td>35</td>\n",
              "      <td>61833.90</td>\n",
              "      <td>256.09</td>\n",
              "      <td>Cloned 5thgeneration orchestration</td>\n",
              "      <td>Wrightburgh</td>\n",
              "      <td>0</td>\n",
              "      <td>Tunisia</td>\n",
              "      <td>2016-03-27 00:53:11</td>\n",
              "      <td>0</td>\n",
              "    </tr>\n",
              "    <tr>\n",
              "      <th>1</th>\n",
              "      <td>80.23</td>\n",
              "      <td>31</td>\n",
              "      <td>68441.85</td>\n",
              "      <td>193.77</td>\n",
              "      <td>Monitored national standardization</td>\n",
              "      <td>West Jodi</td>\n",
              "      <td>1</td>\n",
              "      <td>Nauru</td>\n",
              "      <td>2016-04-04 01:39:02</td>\n",
              "      <td>0</td>\n",
              "    </tr>\n",
              "    <tr>\n",
              "      <th>2</th>\n",
              "      <td>69.47</td>\n",
              "      <td>26</td>\n",
              "      <td>59785.94</td>\n",
              "      <td>236.50</td>\n",
              "      <td>Organic bottom-line service-desk</td>\n",
              "      <td>Davidton</td>\n",
              "      <td>0</td>\n",
              "      <td>San Marino</td>\n",
              "      <td>2016-03-13 20:35:42</td>\n",
              "      <td>0</td>\n",
              "    </tr>\n",
              "    <tr>\n",
              "      <th>3</th>\n",
              "      <td>74.15</td>\n",
              "      <td>29</td>\n",
              "      <td>54806.18</td>\n",
              "      <td>245.89</td>\n",
              "      <td>Triple-buffered reciprocal time-frame</td>\n",
              "      <td>West Terrifurt</td>\n",
              "      <td>1</td>\n",
              "      <td>Italy</td>\n",
              "      <td>2016-01-10 02:31:19</td>\n",
              "      <td>0</td>\n",
              "    </tr>\n",
              "    <tr>\n",
              "      <th>4</th>\n",
              "      <td>68.37</td>\n",
              "      <td>35</td>\n",
              "      <td>73889.99</td>\n",
              "      <td>225.58</td>\n",
              "      <td>Robust logistical utilization</td>\n",
              "      <td>South Manuel</td>\n",
              "      <td>0</td>\n",
              "      <td>Iceland</td>\n",
              "      <td>2016-06-03 03:36:18</td>\n",
              "      <td>0</td>\n",
              "    </tr>\n",
              "  </tbody>\n",
              "</table>\n",
              "</div>"
            ],
            "text/plain": [
              "   Daily Time Spent on Site  Age  ...            Timestamp  Clicked on Ad\n",
              "0                     68.95   35  ...  2016-03-27 00:53:11              0\n",
              "1                     80.23   31  ...  2016-04-04 01:39:02              0\n",
              "2                     69.47   26  ...  2016-03-13 20:35:42              0\n",
              "3                     74.15   29  ...  2016-01-10 02:31:19              0\n",
              "4                     68.37   35  ...  2016-06-03 03:36:18              0\n",
              "\n",
              "[5 rows x 10 columns]"
            ]
          },
          "metadata": {},
          "execution_count": 3
        }
      ]
    },
    {
      "cell_type": "code",
      "metadata": {
        "id": "r56vgRErkm_x"
      },
      "source": [
        "click = data['Clicked on Ad'] == 1\n",
        "no_click = data['Clicked on Ad'] == 0"
      ],
      "execution_count": 4,
      "outputs": []
    },
    {
      "cell_type": "code",
      "metadata": {
        "id": "0OnZCTtiktUO"
      },
      "source": [
        "time_click = data.loc[click.values, 'Daily Time Spent on Site']\n",
        "time_noclick = data.loc[no_click.values, 'Daily Time Spent on Site']\n"
      ],
      "execution_count": 5,
      "outputs": []
    },
    {
      "cell_type": "code",
      "metadata": {
        "colab": {
          "base_uri": "https://localhost:8080/",
          "height": 265
        },
        "id": "109mrrKjkw1x",
        "outputId": "a02a5ed9-3e9e-49d8-aee4-e53d7122da39"
      },
      "source": [
        "plt.hist(time_click, bins = 30, alpha = 0.5, label = 'click')\n",
        "plt.hist(time_noclick, bins = 30, alpha = 0.5, label = 'no click')\n",
        "plt.legend(loc='upper left')\n",
        "plt.show()"
      ],
      "execution_count": 6,
      "outputs": [
        {
          "output_type": "display_data",
          "data": {
            "image/png": "[encoded data removed]",
            "text/plain": [
              "<Figure size 432x288 with 1 Axes>"
            ]
          },
          "metadata": {
            "needs_background": "light"
          }
        }
      ]
    },
    {
      "cell_type": "code",
      "metadata": {
        "id": "2T1DwTGyk03F"
      },
      "source": [
        "stat, pval = stats.ttest_ind(time_click, time_noclick)\n"
      ],
      "execution_count": 7,
      "outputs": []
    },
    {
      "cell_type": "code",
      "metadata": {
        "colab": {
          "base_uri": "https://localhost:8080/"
        },
        "id": "NQVD2Lvok51t",
        "outputId": "8b3895ea-f339-4439-d241-a6f9b134a7d6"
      },
      "source": [
        "print(\"T-test results of checking difference between clicked and non-clicked groups on Daily Time spent on Site\")\n",
        "print([stat, pval])"
      ],
      "execution_count": 8,
      "outputs": [
        {
          "output_type": "stream",
          "name": "stdout",
          "text": [
            "T-test results of checking difference between clicked and non-clicked groups on Daily Time spent on Site\n",
            "[-35.61636085995531, 5.877384244135832e-180]\n"
          ]
        }
      ]
    },
    {
      "cell_type": "code",
      "metadata": {
        "id": "YVUrkO35k9RJ"
      },
      "source": [
        "cols = ['Daily Time Spent on Site', 'Daily Internet Usage']\n",
        "daily_data = data[cols]\n",
        "\n",
        "daily_click = np.log(daily_data[click])\n",
        "daily_noclick = np.log(daily_data[no_click])"
      ],
      "execution_count": 10,
      "outputs": []
    },
    {
      "cell_type": "code",
      "metadata": {
        "colab": {
          "base_uri": "https://localhost:8080/",
          "height": 279
        },
        "id": "hBDcNIPBlBJ_",
        "outputId": "555e875d-f503-485b-95ad-47d8c21fca23"
      },
      "source": [
        "plt.scatter(daily_click[cols[0]], daily_click[cols[1]], marker='o',label='click')\n",
        "plt.scatter(daily_noclick[cols[0]], daily_noclick[cols[1]], marker='o',label='noclick')\n",
        "plt.legend(loc='upper left')\n",
        "plt.xlabel('Site Time')\n",
        "plt.ylabel('Int Usage')\n",
        "plt.show()\n"
      ],
      "execution_count": 11,
      "outputs": [
        {
          "output_type": "display_data",
          "data": {
            "image/png": "[encoded data removed]",
            "text/plain": [
              "<Figure size 432x288 with 1 Axes>"
            ]
          },
          "metadata": {
            "needs_background": "light"
          }
        }
      ]
    },
    {
      "cell_type": "code",
      "metadata": {
        "colab": {
          "base_uri": "https://localhost:8080/"
        },
        "id": "5RZUavohlMcM",
        "outputId": "eb51f35a-0f67-43bd-81a7-770034e41fe9"
      },
      "source": [
        "click_cov = daily_click.cov()\n",
        "noclick_cov = daily_noclick.cov()\n",
        "\n",
        "print(click_cov)\n",
        "print(noclick_cov) "
      ],
      "execution_count": 12,
      "outputs": [
        {
          "output_type": "stream",
          "name": "stdout",
          "text": [
            "                          Daily Time Spent on Site  Daily Internet Usage\n",
            "Daily Time Spent on Site                  0.056608             -0.011578\n",
            "Daily Internet Usage                     -0.011578              0.036813\n",
            "                          Daily Time Spent on Site  Daily Internet Usage\n",
            "Daily Time Spent on Site                  0.010606             -0.001806\n",
            "Daily Internet Usage                     -0.001806              0.013245\n"
          ]
        }
      ]
    },
    {
      "cell_type": "code",
      "metadata": {
        "id": "P8OkOrJjlQpT"
      },
      "source": [
        "X1 = data[\"Daily Time Spent on Site\"].values\n",
        "#X1 = X1 - X1.mean()\n",
        "X2 = data[\"Daily Internet Usage\"].values\n",
        "#X2 = X2 - X2.mean()\n",
        "Y = data[\"Clicked on Ad\"].values\n"
      ],
      "execution_count": 13,
      "outputs": []
    },
    {
      "cell_type": "code",
      "metadata": {
        "colab": {
          "base_uri": "https://localhost:8080/",
          "height": 355
        },
        "id": "vXXVVEVdlUoS",
        "outputId": "a97dd1a9-21ec-40e0-ae90-a86b761258b4"
      },
      "source": [
        "with pm.Model() as adv:\n",
        "    beta = pm.Normal('beta', mu = 0, sd = 1, shape = 3)\n",
        "    \n",
        "    mu = pm.Deterministic('mu', beta[0] + beta[1]*X1 + beta[2]*X2)\n",
        "    L = pm.Deterministic('L', (1 + T.exp(-mu))**(-1))\n",
        "    \n",
        "    y = pm.Bernoulli('y', p = L, observed = Y)\n",
        "    \n",
        "    trace_adv = pm.sample(2000, tune = 1000, cores = 1)\n",
        "    \n",
        "\n",
        "Summary = az.summary(trace_adv, var_names = ['beta'])\n",
        "print(Summary)\n"
      ],
      "execution_count": 14,
      "outputs": [
        {
          "output_type": "stream",
          "name": "stderr",
          "text": [
            "/usr/local/lib/python3.7/dist-packages/ipykernel_launcher.py:9: FutureWarning: In v4.0, pm.sample will return an `arviz.InferenceData` object instead of a `MultiTrace` by default. You can pass return_inferencedata=True or return_inferencedata=False to be safe and silence this warning.\n",
            "  if __name__ == '__main__':\n",
            "Auto-assigning NUTS sampler...\n",
            "Initializing NUTS using jitter+adapt_diag...\n",
            "Sequential sampling (2 chains in 1 job)\n",
            "NUTS: [beta]\n"
          ]
        },
        {
          "output_type": "display_data",
          "data": {
            "text/html": [
              "\n",
              "    <div>\n",
              "        <style>\n",
              "            /* Turns off some styling */\n",
              "            progress {\n",
              "                /* gets rid of default border in Firefox and Opera. */\n",
              "                border: none;\n",
              "                /* Needs to be in here for Safari polyfill so background images work as expected. */\n",
              "                background-size: auto;\n",
              "            }\n",
              "            .progress-bar-interrupted, .progress-bar-interrupted::-webkit-progress-bar {\n",
              "                background: #F44336;\n",
              "            }\n",
              "        </style>\n",
              "      <progress value='3000' class='' max='3000' style='width:300px; height:20px; vertical-align: middle;'></progress>\n",
              "      100.00% [3000/3000 00:18<00:00 Sampling chain 0, 0 divergences]\n",
              "    </div>\n",
              "    "
            ],
            "text/plain": [
              "<IPython.core.display.HTML object>"
            ]
          },
          "metadata": {}
        },
        {
          "output_type": "display_data",
          "data": {
            "text/html": [
              "\n",
              "    <div>\n",
              "        <style>\n",
              "            /* Turns off some styling */\n",
              "            progress {\n",
              "                /* gets rid of default border in Firefox and Opera. */\n",
              "                border: none;\n",
              "                /* Needs to be in here for Safari polyfill so background images work as expected. */\n",
              "                background-size: auto;\n",
              "            }\n",
              "            .progress-bar-interrupted, .progress-bar-interrupted::-webkit-progress-bar {\n",
              "                background: #F44336;\n",
              "            }\n",
              "        </style>\n",
              "      <progress value='3000' class='' max='3000' style='width:300px; height:20px; vertical-align: middle;'></progress>\n",
              "      100.00% [3000/3000 00:14<00:00 Sampling chain 1, 0 divergences]\n",
              "    </div>\n",
              "    "
            ],
            "text/plain": [
              "<IPython.core.display.HTML object>"
            ]
          },
          "metadata": {}
        },
        {
          "output_type": "stream",
          "name": "stderr",
          "text": [
            "Sampling 2 chains for 1_000 tune and 2_000 draw iterations (2_000 + 4_000 draws total) took 33 seconds.\n",
            "Got error No model on context stack. trying to find log_likelihood in translation.\n",
            "/usr/local/lib/python3.7/dist-packages/arviz/data/io_pymc3_3x.py:102: FutureWarning: Using `from_pymc3` without the model will be deprecated in a future release. Not using the model will return less accurate and less useful results. Make sure you use the model argument or call from_pymc3 within a model context.\n",
            "  FutureWarning,\n"
          ]
        },
        {
          "output_type": "stream",
          "name": "stdout",
          "text": [
            "           mean     sd  hdi_3%  hdi_97%  ...  mcse_sd  ess_bulk  ess_tail  r_hat\n",
            "beta[0]  11.521  0.546  10.411   12.485  ...     0.01    1439.0    1136.0    1.0\n",
            "beta[1]  -0.080  0.007  -0.093   -0.067  ...     0.00    1628.0    1399.0    1.0\n",
            "beta[2]  -0.035  0.003  -0.040   -0.030  ...     0.00    1497.0    1263.0    1.0\n",
            "\n",
            "[3 rows x 9 columns]\n"
          ]
        }
      ]
    },
    {
      "cell_type": "code",
      "metadata": {
        "id": "sRVmW-OVmDDZ"
      },
      "source": [
        "regressor = sklearn.linear_model.LogisticRegression()\n",
        "X = data[[\"Daily Time Spent on Site\", \"Age\", \"Daily Internet Usage\",\"Male\"]]\n",
        "Y = data[\"Clicked on Ad\"]"
      ],
      "execution_count": 19,
      "outputs": []
    },
    {
      "cell_type": "code",
      "metadata": {
        "colab": {
          "base_uri": "https://localhost:8080/"
        },
        "id": "oXldBdCNmP2f",
        "outputId": "9c401445-6b6c-458b-92a1-7748fd5501df"
      },
      "source": [
        "perc_gender = data[\"Male\"].value_counts()/len(data[\"Male\"])\n",
        "print(\"Percentage of Males and Females in Sample:\")\n",
        "perc_gender.index = [\"Male\", \"Female\"]\n",
        "print(perc_gender)"
      ],
      "execution_count": 16,
      "outputs": [
        {
          "output_type": "stream",
          "name": "stdout",
          "text": [
            "Percentage of Males and Females in Sample:\n",
            "Male      0.519\n",
            "Female    0.481\n",
            "Name: Male, dtype: float64\n"
          ]
        }
      ]
    },
    {
      "cell_type": "code",
      "metadata": {
        "colab": {
          "base_uri": "https://localhost:8080/"
        },
        "id": "ZjIpvL8BmRhZ",
        "outputId": "b86671b8-bff3-4638-ae2e-36482c0f780c"
      },
      "source": [
        "corr_X = X.corr()\n",
        "\n",
        "print(corr_X)"
      ],
      "execution_count": 20,
      "outputs": [
        {
          "output_type": "stream",
          "name": "stdout",
          "text": [
            "                          Daily Time Spent on Site  ...      Male\n",
            "Daily Time Spent on Site                  1.000000  ... -0.018951\n",
            "Age                                      -0.331513  ... -0.021044\n",
            "Daily Internet Usage                      0.518658  ...  0.028012\n",
            "Male                                     -0.018951  ...  1.000000\n",
            "\n",
            "[4 rows x 4 columns]\n"
          ]
        }
      ]
    },
    {
      "cell_type": "code",
      "metadata": {
        "colab": {
          "base_uri": "https://localhost:8080/"
        },
        "id": "_BwzI39imm_T",
        "outputId": "2657f786-bbd7-457d-d19e-652c17f1817b"
      },
      "source": [
        "print(\"Clicked Proportion of M/F\")\n",
        "print(X[Y == 1][\"Male\"].value_counts()/sum(Y == 1))\n",
        "# Again, slight disparity in gender here\n",
        "\n",
        "print(\"Non-clicked Proportion of M/F\")\n",
        "print(X[Y == 0][\"Male\"].value_counts()/sum(Y == 0))"
      ],
      "execution_count": 21,
      "outputs": [
        {
          "output_type": "stream",
          "name": "stdout",
          "text": [
            "Clicked Proportion of M/F\n",
            "0    0.538\n",
            "1    0.462\n",
            "Name: Male, dtype: float64\n",
            "Non-clicked Proportion of M/F\n",
            "1    0.5\n",
            "0    0.5\n",
            "Name: Male, dtype: float64\n"
          ]
        }
      ]
    },
    {
      "cell_type": "code",
      "metadata": {
        "colab": {
          "base_uri": "https://localhost:8080/"
        },
        "id": "g6gGuJWKmqwt",
        "outputId": "06c9ce41-b6c6-41e1-ee41-17c6194f90e4"
      },
      "source": [
        "X_train, X_test, Y_train, Y_test = sklearn.model_selection.train_test_split(X,\n",
        "                                                                            Y, \n",
        "                                                                            test_size = .20,\n",
        "                                                                            random_state = 0) \n",
        "\n",
        "regressor.fit(X_train, Y_train)"
      ],
      "execution_count": 22,
      "outputs": [
        {
          "output_type": "execute_result",
          "data": {
            "text/plain": [
              "LogisticRegression()"
            ]
          },
          "metadata": {},
          "execution_count": 22
        }
      ]
    },
    {
      "cell_type": "code",
      "metadata": {
        "colab": {
          "base_uri": "https://localhost:8080/"
        },
        "id": "G4crLPQzmyr4",
        "outputId": "33a3861e-2020-4513-e372-1687a42fb7d3"
      },
      "source": [
        "print(\"Beta Coefficients and Intercept\")\n",
        "print(\"Variables: [Time on Site, Age, Internet Usage, Male]\")\n",
        "print(regressor.coef_)\n",
        "print(regressor.intercept_)"
      ],
      "execution_count": 23,
      "outputs": [
        {
          "output_type": "stream",
          "name": "stdout",
          "text": [
            "Beta Coefficients and Intercept\n",
            "Variables: [Time on Site, Age, Internet Usage, Male]\n",
            "[[-0.15122578  0.09977007 -0.05878246  0.00195414]]\n",
            "[17.51655033]\n"
          ]
        }
      ]
    },
    {
      "cell_type": "code",
      "metadata": {
        "colab": {
          "base_uri": "https://localhost:8080/"
        },
        "id": "zVrUJ1jMm0pb",
        "outputId": "fc6982d8-7fcc-4a1a-ed9c-27b522f87bfe"
      },
      "source": [
        "y_pred = regressor.predict(X_test)\n",
        "\n",
        "print(\"MSE\")\n",
        "print(sklearn.metrics.mean_squared_error(Y_test, y_pred))\n",
        "print(\"R^2\")\n",
        "r2 = sklearn.metrics.r2_score(Y_test, y_pred)\n",
        "print(r2)"
      ],
      "execution_count": 24,
      "outputs": [
        {
          "output_type": "stream",
          "name": "stdout",
          "text": [
            "MSE\n",
            "0.055\n",
            "R^2\n",
            "0.7785829307568437\n"
          ]
        }
      ]
    },
    {
      "cell_type": "code",
      "metadata": {
        "colab": {
          "base_uri": "https://localhost:8080/"
        },
        "id": "nQKtNyHzm8tE",
        "outputId": "bcdd797c-de26-4812-f834-97288a559547"
      },
      "source": [
        "print(\"Ad Topic Counts for Clicked vs Non-clicked\")\n",
        "print(\"Clicked:\")\n",
        "print(data[Y == 1][\"Ad Topic Line\"].value_counts()/sum(Y == 1))\n",
        "\n",
        "print(\"Non-Clicked:\")\n",
        "print(data[Y == 0][\"Ad Topic Line\"].value_counts()/sum(Y == 0))\n"
      ],
      "execution_count": 25,
      "outputs": [
        {
          "output_type": "stream",
          "name": "stdout",
          "text": [
            "Ad Topic Counts for Clicked vs Non-clicked\n",
            "Clicked:\n",
            "Pre-emptive value-added workforce                0.002\n",
            "Cross-platform multimedia algorithm              0.002\n",
            "Synergized hybrid time-frame                     0.002\n",
            "Down-sized background groupware                  0.002\n",
            "Assimilated next generation firmware             0.002\n",
            "                                                 ...  \n",
            "Reduced multimedia project                       0.002\n",
            "Future-proofed coherent hardware                 0.002\n",
            "Function-based context-sensitive secured line    0.002\n",
            "Exclusive disintermediate Internet solution      0.002\n",
            "Open-architected needs-based customer loyalty    0.002\n",
            "Name: Ad Topic Line, Length: 500, dtype: float64\n",
            "Non-Clicked:\n",
            "Optional regional throughput                    0.002\n",
            "Cross-group non-volatile secured line           0.002\n",
            "Streamlined analyzing initiative                0.002\n",
            "Up-sized bifurcated capability                  0.002\n",
            "Synchronized systemic hierarchy                 0.002\n",
            "                                                ...  \n",
            "Inverse local hub                               0.002\n",
            "Progressive clear-thinking open architecture    0.002\n",
            "Centralized clear-thinking Graphic Interface    0.002\n",
            "Organized demand-driven knowledgebase           0.002\n",
            "Inverse asymmetric instruction set              0.002\n",
            "Name: Ad Topic Line, Length: 500, dtype: float64\n"
          ]
        }
      ]
    },
    {
      "cell_type": "code",
      "metadata": {
        "id": "BjwMTpRsnU6k"
      },
      "source": [
        "from sklearn.metrics import classification_report"
      ],
      "execution_count": 26,
      "outputs": []
    },
    {
      "cell_type": "code",
      "metadata": {
        "colab": {
          "base_uri": "https://localhost:8080/"
        },
        "id": "sCi4flgYnWUH",
        "outputId": "f170e003-801d-4bb8-e466-eb0f2f676ca4"
      },
      "source": [
        "print(classification_report(Y_test,y_pred))"
      ],
      "execution_count": 27,
      "outputs": [
        {
          "output_type": "stream",
          "name": "stdout",
          "text": [
            "              precision    recall  f1-score   support\n",
            "\n",
            "           0       0.93      0.97      0.95       108\n",
            "           1       0.97      0.91      0.94        92\n",
            "\n",
            "    accuracy                           0.94       200\n",
            "   macro avg       0.95      0.94      0.94       200\n",
            "weighted avg       0.95      0.94      0.94       200\n",
            "\n"
          ]
        }
      ]
    }
  ]
}